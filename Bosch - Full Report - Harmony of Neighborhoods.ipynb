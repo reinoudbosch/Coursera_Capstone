{
 "cells": [
  {
   "cell_type": "markdown",
   "metadata": {},
   "source": [
    "<h1>The Harmony of Neighborhoods</h1><br>\n"
   ]
  },
  {
   "cell_type": "markdown",
   "metadata": {},
   "source": [
    "<h2>Problem description and discussion of background</h2>\n",
    "\n",
    "For this project, I will compare five venue clusters of boroughs in Amsterdam to five venue clusters of boroughs in Toronto to determine which clusters in the two cities are most similar and dissimilar to each other. This question should be interesting to many different parties, such as various businesses in the tourist industry that aim to attract more clients or organizations exploring different types of venues world-wide looking for business opportunities. It should also be of interest to policy makers of various scopes, including municipal, provincial, state-wide, or national looking to enhance the attractiveness of these cities for businesses and inhabitants. \n"
   ]
  },
  {
   "cell_type": "markdown",
   "metadata": {},
   "source": [
    "<h2>Description of data and its usage</h2>\n",
    "\n",
    "To perform this research, five clusters need to be created for Amsterdam as well as for Toronto. Then, the clusters need to be compared. \n",
    "\n",
    "First, this requires the collection of postal codes that can be used as inputs to determine geolocations. To retain the postal codes for Amsterdam, data will be gathered from a website containing information on postal codes for the municipality of Amsterdam which can be found on the following page: https://nl.wikipedia.org/wiki/Lijst_van_postcodes_1000-1999_in_Nederland#1000-1099. An example of a list item in the page is: 1019: Oostelijk Havengebied (Amsterdam-Oost).\n",
    "<br>For Toronto, the following webpage will be used to obtain postal\n",
    "codes: https://en.wikipedia.org/wiki/List_of_postal_codes_of_Canada:_M. \n",
    "An example of a table row on this page is: M3A\tNorth York Parkwoods\n",
    "\n",
    "Next, the latitudes and longitudes connected to the retained postal codes need to be acquired. For Amsterdam, these can be obtained from provider arcgis connected to geocoder: https://geocoder.readthedocs.io/providers/ArcGIS.html. For Toronto, such data is available at: https://cocl.us/Geospatial_data. This way, latitudes and longitudes can be obtained for postal code areas in the municipality of Amsterdam and for the city of Toronto. An example of the obtained latitude and longitude belonging to a postalcode in Amsterdam is:\n",
    "(52.371147277000034, 4.904129180000041)\n",
    "\n",
    "Once these latitudes and longitudes have been obtained and processed, everything is set to query Foursquare for data regarding venues in the vicinity of the various latitude-longitude coordinates. Such venues may range from Bus Stop, Supermarket, and Fast Food Restaurant, to Bar, Park, and Coffee Shop.\n",
    "\n",
    "Once clusters of boroughs are obtained based on similarities in venues found (using the method of k-means clustering), the clusters of Amsterdam can be compared to those of Toronto using euclidean distances between cluster vectors as measures of similarity and difference. Based on these distances, similarities, or harmonies, can be determined between different clusters in Amsterdam and Toronto. Which clusters are most similar to each other and which clusters are most dissimilar? This way the different data sources are used to provide an answer to the problem.\n"
   ]
  },
  {
   "cell_type": "markdown",
   "metadata": {},
   "source": [
    "<h2>Methodology used</h2>\n",
    "\n",
    "The methodology used includes the following elements:\n",
    "\n",
    "<em>Data acquisition and exploration</em>\n",
    "\n",
    "i. Postal codes for Amsterdam are scraped from the website https://nl.wikipedia.org/wiki/Lijst_van_postcodes_1000-1999_in_Nederland#1000-1099 using the module BeautifulSoup. This includes separating relevant information from other information on the page and storing this relevant information in a dataframe containing postal codes connected to boroughs and neighborhoods.\n",
    "\n",
    "ii. Latitudes and longitudes belonging to postal code areas in Amsterdam are acquired from provider arcgis through the goecoder module. These latitudes and longitudes are added to the dataframe containing the data about Amsterdam.\n",
    "\n",
    "iii. To get an overview of the collected data for Amsterdam so far, the boroughs and neighborhoods of Amsterdam are visualized on a folium map.\n",
    "\n",
    "iv. Data regarding venues within 500 meters of the latitudes and longitudes of the Amsterdam postal code areas are acquired from provider Foursquare. The number of unique categories of venues provided for Amsterdam are determined.\n",
    "\n",
    "v. Postal codes for Toronto are scraped from the website https://en.wikipedia.org/wiki/List_of_postal_codes_of_Canada:_M using the module BeautifulSoup. This includes separating relevant information from other information on the page and storing this relevant information in a dataframe containing postal codes connected to boroughs and neighborhoods.\n",
    "\n",
    "vi. Latitudes and longitudes belonging to postal code areas in Toronto are acquired from https://cocl.us/Geospatial_data. These latitudes and longitudes are added to the dataframe containing the data about Toronto.\n",
    "\n",
    "vii. To get an overview of the collected data for Toronto so far, the boroughs and neighborhoods of Toronto are visualized on a folium map.\n",
    "\n",
    "viii. Data regarding venues within 500 meters of the latitudes and longitudes of the Toronto postal code areas are acquired from provider Foursquare. The number of unique categories of venues provided for Toronto are determined.\n",
    "\n",
    "ix. To be able to compare Amsterdam and Toronto, the categories of venues for both cities must be the same. Only those venues are retained in the resulting datasets 'amsterdam_venues' and 'toronto_venues'.\n",
    "\n",
    "\n",
    "<em>Inferential statistical testing</em>\n",
    "\n",
    "i. Dataframes 'amsterdam_grouped' and 'toronto_grouped' are created grouped by borough and containing the mean of the frequency of occurrence of each category of venue for postal codes belonging to each borough. The top 5 and the top 10 most common venues are printed for each borough in Amsterdam and Toronto.\n",
    "\n",
    "\n",
    "<em>Machine learning</em>\n",
    "\n",
    "i. To find clusters of boroughs that are similar in terms of venues existing in such boroughs, the method of k-means clustering is run on the grouped data from Amsterdam and Toronto with the number of clusters set to 5. The resulting cluster labels are added to the datasets containing postal codes, latitudes, longitudes, and most common venues. The clusters are visualized on folium maps for Amsterdam and Toronto and their contents are examined. The feature vectors of the different clusters are stored in variables 'amsterdam_cluster_centers' and 'toronto_cluster_centers'.\n",
    "\n",
    "ii. To analyze similarities and dissimilarities between the clusters in Amsterdam and Toronto, Euclidean distances are calculated pairwise between the Amsterdam and Toronto clusters. The resulting scores are printed in ascending order. Now, the clusters that are similar for Amsterdam and Toronto can be determined as well as those that are dissimilar.\n"
   ]
  },
  {
   "cell_type": "markdown",
   "metadata": {},
   "source": [
    "<h2>Results</h2>\n",
    "\n",
    "All visualizations can be found in the coding notebook.\n",
    "\n",
    "<em>Data acquisition and exploration</em>\n",
    "\n",
    "In total, 63 rows of postal codes, boroughs, neighborhoods, and their latitudes and longitudes were retrieved for Amsterdam. For Toronto, 103 rows of postal codes, boroughs, neighborhoods, and their latitudes and longitudes were retreived. In total, 2129 rows of venue data were retrieved for Amsterdam containing 266 unique categories of venues. For Toronto, 2237 rows of venue data were retrieved with 277 unique categories of venues. To be able to compare the data of Amsterdam and Toronto, only those categories of venues were retained that were found in both datasets. This led to datasets containing 191 unique categories.\n",
    "\n",
    "<em>Inferential statistical testing</em>\n",
    "\n",
    "The rows of the Amsterdam and Toronto datasets were each grouped by borough and by taking the mean of the frequency of occurrence of each category. \n",
    "\n",
    "<em>Machine learning</em>\n",
    "\n",
    "Next, the method of k-means clustering was run on the grouped data from Amsterdam and Toronto with the number of clusters set to 5. The resulting cluster labels were added to the datasets containing postal codes, boroughs, neighborhoods, latitudes, longitudes, and most common venues. The application of k-means clustering resulted for both Amsterdam and Toronto in feature vectors based on the frequency of the different venues. These feature vectors were stored in variables and compared by calculating Euclidean distances pairwise between the clusters in Amsterdam and Toronto. The resulting scores, in ascending order, is shown below.\n",
    "\n",
    "amsterdam_cluster_center[2] & toronto_cluster_center[0] : 0.088161231945482\n",
    "amsterdam_cluster_center[2] & toronto_cluster_center[3] : 0.14369444808996737\n",
    "amsterdam_cluster_center[4] & toronto_cluster_center[0] : 0.14650339552107483\n",
    "amsterdam_cluster_center[4] & toronto_cluster_center[3] : 0.15259826026772363\n",
    "amsterdam_cluster_center[0] & toronto_cluster_center[0] : 0.18740824333160952\n",
    "amsterdam_cluster_center[0] & toronto_cluster_center[3] : 0.21076483320212275\n",
    "amsterdam_cluster_center[3] & toronto_cluster_center[0] : 0.21838248221630996\n",
    "amsterdam_cluster_center[3] & toronto_cluster_center[3] : 0.2252481042130494\n",
    "amsterdam_cluster_center[4] & toronto_cluster_center[2] : 0.26760920967675633\n",
    "amsterdam_cluster_center[2] & toronto_cluster_center[4] : 0.2749735701158221\n",
    "amsterdam_cluster_center[2] & toronto_cluster_center[2] : 0.2780065624299194\n",
    "amsterdam_cluster_center[0] & toronto_cluster_center[4] : 0.30372023867286385\n",
    "amsterdam_cluster_center[3] & toronto_cluster_center[2] : 0.30768067106628183\n",
    "amsterdam_cluster_center[4] & toronto_cluster_center[4] : 0.3145449190355338\n",
    "amsterdam_cluster_center[0] & toronto_cluster_center[2] : 0.31534679103475427\n",
    "amsterdam_cluster_center[2] & toronto_cluster_center[1] : 0.3243150594955119\n",
    "amsterdam_cluster_center[4] & toronto_cluster_center[1] : 0.3403114776224163\n",
    "amsterdam_cluster_center[3] & toronto_cluster_center[4] : 0.346122815273194\n",
    "amsterdam_cluster_center[0] & toronto_cluster_center[1] : 0.36487063257049984\n",
    "amsterdam_cluster_center[3] & toronto_cluster_center[1] : 0.40054954342952814\n",
    "amsterdam_cluster_center[1] & toronto_cluster_center[0] : 0.6394438474762678\n",
    "amsterdam_cluster_center[1] & toronto_cluster_center[3] : 0.6411763738982661\n",
    "amsterdam_cluster_center[1] & toronto_cluster_center[2] : 0.6844513598316494\n",
    "amsterdam_cluster_center[1] & toronto_cluster_center[4] : 0.695033606650537\n",
    "amsterdam_cluster_center[1] & toronto_cluster_center[1] : 0.7161395332179681\n",
    "\n",
    "The Euclidean distances indicate that the third cluster of Amsterdam (with index 2) and the first cluster of Toronto (with index 0) are the most similar, whereas the second cluster of Amsterdam (with index 1) and the second cluster of Toronto (with index 1) are most dissimilar. \n",
    "\n",
    "The third cluster of Amsterdam consists of neighborhoods that are close to the center of the city. Similarly, the neighborhoods of the first cluster of Toronto are close to downtown Toronto. The most common venues in these clusters are Bars, Hotels, Café's and Restaurants.\n",
    "\n",
    "The second cluster of Amsterdam consists of its harbor. Apart from the Harbor, venues found here are Bus Stops, Smoke Shops, Restaurants, and Event Spaces. The second cluster of Toronto consists of its Mississauga borough. Most common venues found here are Coffee Shops, Hotels, Gyms/Fitness Centers, and Restaurants.\n"
   ]
  },
  {
   "cell_type": "markdown",
   "metadata": {},
   "source": [
    "<h2>Discussion</h2>\n",
    "\n",
    "The results show which clusters of boroughs and neighborhoods in Amsterdam and Toronto are most similar and dissimilar and which venues are most commonly found in those clusters. It appears that the centers of both cities are quite similar in terms of venues found. For interested parties, this may mean that knowledge about venues in one city center can be used for decisions to be made about the other city center. As an example, an organization in the tourist industry may be able to point out similarities between both cities that may be of interest to its clientele. Dissimilarities may point to unique aspects of Amsterdam and Toronto. For the tourist industry, this may also present an opportunity to be exploited.\n",
    "\n",
    "Organizations considering investments in venues in these cities may use their experience in one city to determine where to invest in the other city. Is there competitive advantage in investing in similar clusters or might an investment be interesting in clusters that are dissimilar? This will depend on the selling points of venues to be set up by such organizations.\n",
    "\n",
    "For public decision makers, it may be interesting to note the similarities and dissimilarities between clusters of venues in Amsterdam and Toronto to decide on public policy regarding the development of different areas of such cities, learning from the way in which clusters are constituted in the other city. Might it be interesting to develop parks in some clusters? Or might subsidies be provided for certain types of venues to be set up in certain parts? This will depend on policy preferences of the public decision makers with jurisdiction over the particular cluster areas.\n",
    "\n"
   ]
  },
  {
   "cell_type": "markdown",
   "metadata": {},
   "source": [
    "<h2>Conclusion</h2>\n",
    "\n",
    "This project has compared five clusters of boroughs in Amsterdam to five clusters of boroughs in Toronto to determine which clusters are most similar and dissimilar. As discussed, this question could be interesting to businesses in the tourist industry that aim to attract more clients or organizations exploring venues in either of these cities looking for business opportunities in the other city. It should also be of interest to policy makers looking to enhance the attractiveness of these cities for businesses and inhabitants. It was found that the centers of both cities appear relatively similar in terms of the venues that may be found there, whereas the Amsterdam harbor area appeared rather dissimilar from the Toronto Mississauga area.\n"
   ]
  },
  {
   "cell_type": "code",
   "execution_count": null,
   "metadata": {},
   "outputs": [],
   "source": []
  }
 ],
 "metadata": {
  "kernelspec": {
   "display_name": "Python 3",
   "language": "python",
   "name": "python3"
  },
  "language_info": {
   "codemirror_mode": {
    "name": "ipython",
    "version": 3
   },
   "file_extension": ".py",
   "mimetype": "text/x-python",
   "name": "python",
   "nbconvert_exporter": "python",
   "pygments_lexer": "ipython3",
   "version": "3.6.8"
  }
 },
 "nbformat": 4,
 "nbformat_minor": 2
}
