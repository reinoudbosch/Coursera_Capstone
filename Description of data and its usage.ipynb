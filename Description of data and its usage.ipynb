{
 "cells": [
  {
   "cell_type": "markdown",
   "metadata": {},
   "source": [
    "<h2>Description of data and its usage</h2>\n",
    "\n",
    "To perform this research, five clusters need to be created for Amsterdam as well as for Toronto. Then, the clusters need to be compared. \n",
    "\n",
    "First, this requires the collection of postal codes that can be used as inputs to determine geolocations. To retain the postal codes for Amsterdam, data will be gathered from a website containing information on postal codes for the municipality of Amsterdam which can be found on the following page: https://nl.wikipedia.org/wiki/Lijst_van_postcodes_1000-1999_in_Nederland#1000-1099. An example of a list item in the page is:\n",
    "1019: Oostelijk Havengebied (Amsterdam-Oost).\n",
    "For Toronto, the following webpage will be used to obtain postal codes: https://en.wikipedia.org/wiki/List_of_postal_codes_of_Canada:_M. \n",
    "\n",
    "An example of a table row on this page is: M3A\tNorth York Parkwoods\n",
    "\n",
    "Next, the latitudes and longitudes connected to the retained postal codes need to be acquired. These can be obtained from provider arcgis connected to geocoder: https://geocoder.readthedocs.io/providers/ArcGIS.html. This way, latitudes and longitudes can be obtained for postal code areas in the municipality of Amsterdam and for the city of Toronto. An example of the obtained latitude and longitude belonging to a postalcode in Amsterdam is:\n",
    "(52.371147277000034, 4.904129180000041)\n",
    "\n",
    "Once these latitudes and longitudes have been obtained and processed, everything is set to query Foursquare for data regarding venues in the vicinity of the various latitude-longitude coordinates. Such venues may range from Bus Stop, Supermarket, and Fast Food Restaurant, to Bar, Park, and Coffee Shop.\n",
    "\n",
    "Once clusters of boroughs are obtained based on similarities in venues found (using the method of k-means clustering), the clusters of Amsterdam can be compared to those of Toronto using euclidean distances between cluster vectors as measures of similarity and difference. Based on these distances, similarities, or harmonies, can be determined between different clusters in Amsterdam and Toronto. Which clusters are most similar to each other and which clusters are most dissimilar? This way the different data sources are used to provide an answer to the problem.\n"
   ]
  },
  {
   "cell_type": "code",
   "execution_count": null,
   "metadata": {},
   "outputs": [],
   "source": []
  }
 ],
 "metadata": {
  "kernelspec": {
   "display_name": "Python 3",
   "language": "python",
   "name": "python3"
  },
  "language_info": {
   "codemirror_mode": {
    "name": "ipython",
    "version": 3
   },
   "file_extension": ".py",
   "mimetype": "text/x-python",
   "name": "python",
   "nbconvert_exporter": "python",
   "pygments_lexer": "ipython3",
   "version": "3.6.8"
  }
 },
 "nbformat": 4,
 "nbformat_minor": 2
}
