{
 "cells": [
  {
   "cell_type": "markdown",
   "metadata": {},
   "source": [
    "<h2>Problem description and discussion of background</h2>\n",
    "\n",
    "For this project, I will compare five clusters of boroughs in Amsterdam to five clusters of boroughs in Toronto to determine which clusters in the two cities are most similar and dissimilar to each other. This question should be interesting to many different parties, such as various businesses in the tourist industry that aim to attract more clients or organizations exploring different types of venues world-wide looking for business opportunities. It should also be of interest to policy makers of various scopes, including municipal, provincial, state-wide, or national looking to enhance the attractiveness of these cities for businesses and inhabitants. \n"
   ]
  },
  {
   "cell_type": "code",
   "execution_count": null,
   "metadata": {},
   "outputs": [],
   "source": []
  }
 ],
 "metadata": {
  "kernelspec": {
   "display_name": "Python 3",
   "language": "python",
   "name": "python3"
  },
  "language_info": {
   "codemirror_mode": {
    "name": "ipython",
    "version": 3
   },
   "file_extension": ".py",
   "mimetype": "text/x-python",
   "name": "python",
   "nbconvert_exporter": "python",
   "pygments_lexer": "ipython3",
   "version": "3.6.8"
  }
 },
 "nbformat": 4,
 "nbformat_minor": 2
}
